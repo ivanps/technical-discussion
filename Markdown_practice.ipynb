{
  "nbformat": 4,
  "nbformat_minor": 0,
  "metadata": {
    "colab": {
      "provenance": [],
      "authorship_tag": "ABX9TyNb+zLEJ6uftGm0AadydcIH",
      "include_colab_link": true
    },
    "kernelspec": {
      "name": "python3",
      "display_name": "Python 3"
    },
    "language_info": {
      "name": "python"
    }
  },
  "cells": [
    {
      "cell_type": "markdown",
      "metadata": {
        "id": "view-in-github",
        "colab_type": "text"
      },
      "source": [
        "<a href=\"https://colab.research.google.com/github/ivanps/technical-discussion/blob/main/Markdown_practice.ipynb\" target=\"_parent\"><img src=\"https://colab.research.google.com/assets/colab-badge.svg\" alt=\"Open In Colab\"/></a>"
      ]
    },
    {
      "cell_type": "code",
      "execution_count": null,
      "metadata": {
        "id": "I4cxDCMQgP4l"
      },
      "outputs": [],
      "source": []
    },
    {
      "cell_type": "markdown",
      "source": [
        "# Markdown practice\n",
        "\n",
        "Let us first print the most common message!"
      ],
      "metadata": {
        "id": "ESOjOIAYgasF"
      }
    },
    {
      "cell_type": "code",
      "source": [
        "print(\"hello word\")"
      ],
      "metadata": {
        "colab": {
          "base_uri": "https://localhost:8080/"
        },
        "id": "VpGPfP3Dgeio",
        "outputId": "caab0cc8-0378-4efa-ab6a-8b1b90758d41"
      },
      "execution_count": 1,
      "outputs": [
        {
          "output_type": "stream",
          "name": "stdout",
          "text": [
            "hello word\n"
          ]
        }
      ]
    },
    {
      "cell_type": "markdown",
      "source": [
        "Let us go to the next section.\n",
        "\n",
        "## Text format\n",
        "\n",
        "We use a **bold** format for emphasis, or *italics* for regions or names. We can also list import aspects of critical thinking:\n",
        "* Intelectual humility\n",
        "* Courage\n",
        "* Empathy\n",
        "* And so on.\n",
        "\n",
        "It is also possible to include a formula, like the normal distribution.\n",
        "$$\n",
        "f(x) = \\frac{1}{\\sqrt{2\\pi} \\sigma} \\exp\\left({-\\frac{1}{2\\sigma^2}}(x-\\mu)^2\\right).\n",
        "$$"
      ],
      "metadata": {
        "id": "vyTCbT3GhgFl"
      }
    },
    {
      "cell_type": "code",
      "source": [],
      "metadata": {
        "id": "bNFYhUliia2Q"
      },
      "execution_count": null,
      "outputs": []
    }
  ]
}