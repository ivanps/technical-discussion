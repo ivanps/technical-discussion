{
  "nbformat": 4,
  "nbformat_minor": 0,
  "metadata": {
    "colab": {
      "provenance": [],
      "authorship_tag": "ABX9TyPLcjD/KIxpEMqSifXslEYM",
      "include_colab_link": true
    },
    "kernelspec": {
      "name": "python3",
      "display_name": "Python 3"
    },
    "language_info": {
      "name": "python"
    }
  },
  "cells": [
    {
      "cell_type": "markdown",
      "metadata": {
        "id": "view-in-github",
        "colab_type": "text"
      },
      "source": [
        "<a href=\"https://colab.research.google.com/github/ivanps/technical-discussion/blob/main/Cloud_computing.ipynb\" target=\"_parent\"><img src=\"https://colab.research.google.com/assets/colab-badge.svg\" alt=\"Open In Colab\"/></a>"
      ]
    },
    {
      "cell_type": "markdown",
      "source": [
        "# Colab example\n",
        "\n",
        "This is an example of a function."
      ],
      "metadata": {
        "id": "Nx6Pvk4kJfzk"
      }
    },
    {
      "cell_type": "markdown",
      "source": [],
      "metadata": {
        "id": "6vd2guoGKBok"
      }
    },
    {
      "cell_type": "code",
      "execution_count": 1,
      "metadata": {
        "colab": {
          "base_uri": "https://localhost:8080/",
          "height": 36
        },
        "id": "sOUwnAsZJNev",
        "outputId": "1ee9cd4d-6ac4-4be4-fce3-42fa30df6f7d"
      },
      "outputs": [
        {
          "output_type": "execute_result",
          "data": {
            "text/plain": [
              "'Hola amigos!'"
            ],
            "application/vnd.google.colaboratory.intrinsic+json": {
              "type": "string"
            }
          },
          "metadata": {},
          "execution_count": 1
        }
      ],
      "source": [
        "def hello():\n",
        "  return \"Hola amigos!\"\n",
        "hello()"
      ]
    },
    {
      "cell_type": "markdown",
      "source": [
        "List of opcions with **Markdown**:\n",
        "* One\n",
        "* Two\n",
        "* Three"
      ],
      "metadata": {
        "id": "LNg9kBzuKJZN"
      }
    },
    {
      "cell_type": "code",
      "source": [],
      "metadata": {
        "id": "PW_xSqbmKXSt"
      },
      "execution_count": null,
      "outputs": []
    }
  ]
}